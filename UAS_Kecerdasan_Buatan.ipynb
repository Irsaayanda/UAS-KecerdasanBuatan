{
  "nbformat": 4,
  "nbformat_minor": 0,
  "metadata": {
    "colab": {
      "name": "UAS Kecerdasan Buatan.ipynb",
      "provenance": [],
      "collapsed_sections": [],
      "authorship_tag": "ABX9TyPDpFf7MzsrvXfozXzhC02+",
      "include_colab_link": true
    },
    "kernelspec": {
      "name": "python3",
      "display_name": "Python 3"
    }
  },
  "cells": [
    {
      "cell_type": "markdown",
      "metadata": {
        "id": "view-in-github",
        "colab_type": "text"
      },
      "source": [
        "<a href=\"https://colab.research.google.com/github/Irsaayanda/UAS-KecerdasanBuatan/blob/main/UAS_Kecerdasan_Buatan.ipynb\" target=\"_parent\"><img src=\"https://colab.research.google.com/assets/colab-badge.svg\" alt=\"Open In Colab\"/></a>"
      ]
    },
    {
      "cell_type": "code",
      "metadata": {
        "colab": {
          "base_uri": "https://localhost:8080/"
        },
        "id": "V-YATou0gu4N",
        "outputId": "d350312a-23f0-4413-d00a-a8c6ec0b011c"
      },
      "source": [
        "A = ['Nama : Irsa Yandasari']\r\n",
        "B = ['NIM: 171011450402']\r\n",
        "C = ['Tugas : Membuat Project AI menggunakan Metode Desicion Tree']\r\n",
        "print(A,B,C)\r\n",
        "from sklearn import tree \r\n",
        "clf = tree.DecisionTreeClassifier()\r\n",
        "X = [[175, 70, 30], [160, 60, 32], [72, 55, 24], [55, 50, 11]] #[TinggiBadan, beratBadan, Umur]\r\n",
        "Y = ['Pria', 'Pria', 'Wanita', 'Wanita'] #Keterangan Yang akan di Label_kan (di Jelaskan)\r\n",
        "clf = clf.fit(X, Y)\r\n",
        "prediction = clf.predict([[160, 55, 11]]) #Inputan Model Data yang digunakan \r\n",
        "print(prediction)\r\n"
      ],
      "execution_count": null,
      "outputs": [
        {
          "output_type": "stream",
          "text": [
            "['Nama : Irsa Yandasari'] ['NIM: 171011450402'] ['Tugas : Membuat Project AI menggunakan Metode Desicion Tree']\n",
            "['Wanita']\n"
          ],
          "name": "stdout"
        }
      ]
    }
  ]
}